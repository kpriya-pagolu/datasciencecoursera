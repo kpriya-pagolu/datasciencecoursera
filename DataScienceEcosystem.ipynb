{
 "cells": [
  {
   "cell_type": "markdown",
   "id": "47cb19cb",
   "metadata": {},
   "source": [
    "# Data Science Tools and Ecosystem"
   ]
  },
  {
   "cell_type": "markdown",
   "id": "cbd08296",
   "metadata": {},
   "source": [
    "## In this notebook, Data Science Tools and Ecosystem are summarized."
   ]
  },
  {
   "cell_type": "markdown",
   "id": "17c140a5",
   "metadata": {},
   "source": [
    "### Some of the popular languages that Data Scientists use are:"
   ]
  },
  {
   "cell_type": "markdown",
   "id": "32e7b268",
   "metadata": {},
   "source": [
    "1. Python\n",
    "2. R\n",
    "3. Java\n",
    "4. Scala"
   ]
  },
  {
   "cell_type": "markdown",
   "id": "3a17bb02",
   "metadata": {},
   "source": [
    "### Some of the commonly used libraries used by Data Scientists include:"
   ]
  },
  {
   "cell_type": "markdown",
   "id": "3ebd3429",
   "metadata": {},
   "source": [
    "1. pandas\n",
    "2. Matplotlib\n",
    "2. Numpy\n",
    "3. Scipy\n",
    "4. Pytorch\n"
   ]
  },
  {
   "cell_type": "markdown",
   "id": "b81f2393",
   "metadata": {},
   "source": [
    "|Data Science Tools|\n",
    "|------------------|\n",
    "|Jupyterlab|\n",
    "|RStudio|\n",
    "|VS Code|\n",
    "|Google Colab|\n"
   ]
  },
  {
   "attachments": {},
   "cell_type": "markdown",
   "id": "ecbb2cd4",
   "metadata": {},
   "source": [
    "### Below are few examples of evaluating arithmetic expressions in Python"
   ]
  },
  {
   "cell_type": "code",
   "execution_count": 4,
   "id": "52ff8d19",
   "metadata": {},
   "outputs": [
    {
     "data": {
      "text/plain": [
       "17"
      ]
     },
     "execution_count": 4,
     "metadata": {},
     "output_type": "execute_result"
    }
   ],
   "source": [
    "# this is a simple arithmetic expression to multiply then add numbers\n",
    "(3*4)+5"
   ]
  },
  {
   "cell_type": "code",
   "execution_count": 5,
   "id": "9f240a87",
   "metadata": {},
   "outputs": [
    {
     "data": {
      "text/plain": [
       "3.3333333333333335"
      ]
     },
     "execution_count": 5,
     "metadata": {},
     "output_type": "execute_result"
    }
   ],
   "source": [
    "# This will convert 200 minutes to hours by dividing by 60\n",
    "200 /60"
   ]
  },
  {
   "cell_type": "markdown",
   "id": "4310bf1e",
   "metadata": {},
   "source": [
    "__Objectives:__"
   ]
  },
  {
   "cell_type": "markdown",
   "id": "c37be319",
   "metadata": {},
   "source": [
    "- List popular Datascience Languages\n",
    "- List popular Datascience libraries\n",
    "- List popular Datascience IDEs\n",
    "- Markdown to create Headings, Lists, Tables\n",
    "- Code to evaluate arithmetic expressions"
   ]
  },
  {
   "cell_type": "markdown",
   "id": "2d69c587",
   "metadata": {},
   "source": [
    "## Author\n",
    "KP"
   ]
  },
  {
   "cell_type": "code",
   "execution_count": null,
   "id": "0ea2df57",
   "metadata": {},
   "outputs": [],
   "source": []
  }
 ],
 "metadata": {
  "kernelspec": {
   "display_name": "Python 3 (ipykernel)",
   "language": "python",
   "name": "python3"
  },
  "language_info": {
   "codemirror_mode": {
    "name": "ipython",
    "version": 3
   },
   "file_extension": ".py",
   "mimetype": "text/x-python",
   "name": "python",
   "nbconvert_exporter": "python",
   "pygments_lexer": "ipython3",
   "version": "3.10.9"
  }
 },
 "nbformat": 4,
 "nbformat_minor": 5
}
